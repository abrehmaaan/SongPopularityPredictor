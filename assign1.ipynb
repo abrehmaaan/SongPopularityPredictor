{
 "cells": [
  {
   "cell_type": "markdown",
   "id": "3ec0f4fa",
   "metadata": {},
   "source": [
    "# Song Popularity Prediction"
   ]
  },
  {
   "cell_type": "code",
   "execution_count": 1,
   "id": "95263962",
   "metadata": {},
   "outputs": [],
   "source": [
    "import numpy as np\n",
    "import pandas as pd"
   ]
  },
  {
   "cell_type": "code",
   "execution_count": 2,
   "id": "5bfbf8aa",
   "metadata": {},
   "outputs": [
    {
     "data": {
      "text/html": [
       "<div>\n",
       "<style scoped>\n",
       "    .dataframe tbody tr th:only-of-type {\n",
       "        vertical-align: middle;\n",
       "    }\n",
       "\n",
       "    .dataframe tbody tr th {\n",
       "        vertical-align: top;\n",
       "    }\n",
       "\n",
       "    .dataframe thead th {\n",
       "        text-align: right;\n",
       "    }\n",
       "</style>\n",
       "<table border=\"1\" class=\"dataframe\">\n",
       "  <thead>\n",
       "    <tr style=\"text-align: right;\">\n",
       "      <th></th>\n",
       "      <th>song_name</th>\n",
       "      <th>song_popularity</th>\n",
       "      <th>song_duration_ms</th>\n",
       "      <th>acousticness</th>\n",
       "      <th>danceability</th>\n",
       "      <th>energy</th>\n",
       "      <th>instrumentalness</th>\n",
       "      <th>key</th>\n",
       "      <th>liveness</th>\n",
       "      <th>loudness</th>\n",
       "      <th>audio_mode</th>\n",
       "      <th>speechiness</th>\n",
       "      <th>tempo</th>\n",
       "      <th>time_signature</th>\n",
       "      <th>audio_valence</th>\n",
       "    </tr>\n",
       "  </thead>\n",
       "  <tbody>\n",
       "    <tr>\n",
       "      <th>0</th>\n",
       "      <td>Boulevard of Broken Dreams</td>\n",
       "      <td>73</td>\n",
       "      <td>262333</td>\n",
       "      <td>0.005520</td>\n",
       "      <td>0.496</td>\n",
       "      <td>0.682</td>\n",
       "      <td>0.000029</td>\n",
       "      <td>8</td>\n",
       "      <td>0.0589</td>\n",
       "      <td>-4.095</td>\n",
       "      <td>1</td>\n",
       "      <td>0.0294</td>\n",
       "      <td>167.060</td>\n",
       "      <td>4</td>\n",
       "      <td>0.474</td>\n",
       "    </tr>\n",
       "    <tr>\n",
       "      <th>1</th>\n",
       "      <td>In The End</td>\n",
       "      <td>66</td>\n",
       "      <td>216933</td>\n",
       "      <td>0.010300</td>\n",
       "      <td>0.542</td>\n",
       "      <td>0.853</td>\n",
       "      <td>0.000000</td>\n",
       "      <td>3</td>\n",
       "      <td>0.1080</td>\n",
       "      <td>-6.407</td>\n",
       "      <td>0</td>\n",
       "      <td>0.0498</td>\n",
       "      <td>105.256</td>\n",
       "      <td>4</td>\n",
       "      <td>0.370</td>\n",
       "    </tr>\n",
       "    <tr>\n",
       "      <th>2</th>\n",
       "      <td>Seven Nation Army</td>\n",
       "      <td>76</td>\n",
       "      <td>231733</td>\n",
       "      <td>0.008170</td>\n",
       "      <td>0.737</td>\n",
       "      <td>0.463</td>\n",
       "      <td>0.447000</td>\n",
       "      <td>0</td>\n",
       "      <td>0.2550</td>\n",
       "      <td>-7.828</td>\n",
       "      <td>1</td>\n",
       "      <td>0.0792</td>\n",
       "      <td>123.881</td>\n",
       "      <td>4</td>\n",
       "      <td>0.324</td>\n",
       "    </tr>\n",
       "    <tr>\n",
       "      <th>3</th>\n",
       "      <td>By The Way</td>\n",
       "      <td>74</td>\n",
       "      <td>216933</td>\n",
       "      <td>0.026400</td>\n",
       "      <td>0.451</td>\n",
       "      <td>0.970</td>\n",
       "      <td>0.003550</td>\n",
       "      <td>0</td>\n",
       "      <td>0.1020</td>\n",
       "      <td>-4.938</td>\n",
       "      <td>1</td>\n",
       "      <td>0.1070</td>\n",
       "      <td>122.444</td>\n",
       "      <td>4</td>\n",
       "      <td>0.198</td>\n",
       "    </tr>\n",
       "    <tr>\n",
       "      <th>4</th>\n",
       "      <td>How You Remind Me</td>\n",
       "      <td>56</td>\n",
       "      <td>223826</td>\n",
       "      <td>0.000954</td>\n",
       "      <td>0.447</td>\n",
       "      <td>0.766</td>\n",
       "      <td>0.000000</td>\n",
       "      <td>10</td>\n",
       "      <td>0.1130</td>\n",
       "      <td>-5.065</td>\n",
       "      <td>1</td>\n",
       "      <td>0.0313</td>\n",
       "      <td>172.011</td>\n",
       "      <td>4</td>\n",
       "      <td>0.574</td>\n",
       "    </tr>\n",
       "  </tbody>\n",
       "</table>\n",
       "</div>"
      ],
      "text/plain": [
       "                    song_name  song_popularity  song_duration_ms  \\\n",
       "0  Boulevard of Broken Dreams               73            262333   \n",
       "1                  In The End               66            216933   \n",
       "2           Seven Nation Army               76            231733   \n",
       "3                  By The Way               74            216933   \n",
       "4           How You Remind Me               56            223826   \n",
       "\n",
       "   acousticness  danceability  energy  instrumentalness  key  liveness  \\\n",
       "0      0.005520         0.496   0.682          0.000029    8    0.0589   \n",
       "1      0.010300         0.542   0.853          0.000000    3    0.1080   \n",
       "2      0.008170         0.737   0.463          0.447000    0    0.2550   \n",
       "3      0.026400         0.451   0.970          0.003550    0    0.1020   \n",
       "4      0.000954         0.447   0.766          0.000000   10    0.1130   \n",
       "\n",
       "   loudness  audio_mode  speechiness    tempo  time_signature  audio_valence  \n",
       "0    -4.095           1       0.0294  167.060               4          0.474  \n",
       "1    -6.407           0       0.0498  105.256               4          0.370  \n",
       "2    -7.828           1       0.0792  123.881               4          0.324  \n",
       "3    -4.938           1       0.1070  122.444               4          0.198  \n",
       "4    -5.065           1       0.0313  172.011               4          0.574  "
      ]
     },
     "execution_count": 2,
     "metadata": {},
     "output_type": "execute_result"
    }
   ],
   "source": [
    "data = pd.read_csv(\"song_data.csv\")\n",
    "data.head()"
   ]
  },
  {
   "cell_type": "code",
   "execution_count": 3,
   "id": "e7522176",
   "metadata": {},
   "outputs": [],
   "source": [
    "features = data.drop(\"song_name\", axis=1)\n",
    "features = features.drop(\"instrumentalness\", axis=1)\n",
    "features = features.drop(\"loudness\", axis=1)\n",
    "features = features.drop(\"song_popularity\", axis=1)\n",
    "Y = data[\"song_popularity\"]"
   ]
  },
  {
   "cell_type": "code",
   "execution_count": 4,
   "id": "49683f0a",
   "metadata": {},
   "outputs": [
    {
     "data": {
      "text/plain": [
       "array([0.73, 0.66, 0.76, ..., 0.23, 0.55, 0.6 ])"
      ]
     },
     "execution_count": 4,
     "metadata": {},
     "output_type": "execute_result"
    }
   ],
   "source": [
    "Y = (Y/100).values\n",
    "Y"
   ]
  },
  {
   "cell_type": "code",
   "execution_count": 5,
   "id": "a4fd7dee",
   "metadata": {},
   "outputs": [],
   "source": [
    "def loss_fun_one(x, y, w):\n",
    "    m = x.shape[0] \n",
    "    loss = 0\n",
    "    for i in range(m):\n",
    "        fw = w * x[i]\n",
    "        loss = loss + (fw - y[i])**2\n",
    "    total_loss = 1 / (2 * m) * loss\n",
    "\n",
    "    return total_loss"
   ]
  },
  {
   "cell_type": "code",
   "execution_count": 6,
   "id": "955b90cf",
   "metadata": {},
   "outputs": [],
   "source": [
    "def loss_function(X, y, w): \n",
    "    m = X.shape[0]\n",
    "    loss = 0.0\n",
    "    for i in range(m):                                \n",
    "        fw_i = np.dot(X[i], w)\n",
    "        loss = loss + (fw_i - y[i])**2\n",
    "    loss = loss / (2 * m)    \n",
    "    return loss"
   ]
  },
  {
   "cell_type": "code",
   "execution_count": 7,
   "id": "56519f28",
   "metadata": {},
   "outputs": [],
   "source": [
    "def find_gradient_one(x, y, w): \n",
    "    m = x.shape[0]    \n",
    "    d_dw = 0\n",
    "    for i in range(m):  \n",
    "        fw = w * x[i]\n",
    "        d_dw_i = (fw - y[i]) * x[i] \n",
    "        d_dw += d_dw_i \n",
    "    d_dw = d_dw / m \n",
    "        \n",
    "    return d_dw"
   ]
  },
  {
   "cell_type": "code",
   "execution_count": 8,
   "id": "21b617ad",
   "metadata": {},
   "outputs": [],
   "source": [
    "def find_gradient(X, y, w): \n",
    "    m,n = X.shape           #(number of examples, number of features)\n",
    "    d_dw = np.zeros((n,))\n",
    "    for i in range(m):                          \n",
    "        err = (np.dot(X[i], w)) - y[i]   \n",
    "        for j in range(n):                         \n",
    "            d_dw[j] = d_dw[j] + err * X[i, j]                        \n",
    "    d_dw = d_dw / m                                \n",
    "        \n",
    "    return d_dw"
   ]
  },
  {
   "cell_type": "code",
   "execution_count": 9,
   "id": "61815f95",
   "metadata": {},
   "outputs": [],
   "source": [
    "def gradient_descent_one(x, y, w, theta, iters): \n",
    "    for i in range(iters):\n",
    "        d_dw = find_gradient_one(x, y, w)     \n",
    "        w = w - theta * d_dw                            \n",
    "    return w"
   ]
  },
  {
   "cell_type": "code",
   "execution_count": 10,
   "id": "6b21ac87",
   "metadata": {},
   "outputs": [],
   "source": [
    "def gradient_descent(X, y, w, theta, iters): \n",
    "    for i in range(iters):\n",
    "        d_dw = find_gradient(X, y, w)\n",
    "        w = w - theta * d_dw\n",
    "        \n",
    "    return w"
   ]
  },
  {
   "cell_type": "code",
   "execution_count": 11,
   "id": "e6630946",
   "metadata": {},
   "outputs": [],
   "source": [
    "def predict_one(x, w):\n",
    "    m = x.shape[0]\n",
    "    y = np.zeros((m,))\n",
    "    for i in range(m):\n",
    "        y[i] = x[i]* w\n",
    "    return y"
   ]
  },
  {
   "cell_type": "code",
   "execution_count": 12,
   "id": "5d1707d8",
   "metadata": {},
   "outputs": [],
   "source": [
    "def predict(X, w):\n",
    "    m,n = X.shape\n",
    "    y = np.zeros((m,))\n",
    "    for i in range(m):\n",
    "        y[i] = np.dot(X[i], w)\n",
    "    return y"
   ]
  },
  {
   "cell_type": "markdown",
   "id": "e735fd44",
   "metadata": {},
   "source": [
    "For one feature:\n",
    "Energy"
   ]
  },
  {
   "cell_type": "code",
   "execution_count": 13,
   "id": "a2e56956",
   "metadata": {},
   "outputs": [
    {
     "data": {
      "text/plain": [
       "array([0.682, 0.853, 0.463, ..., 0.325, 0.326, 0.381])"
      ]
     },
     "execution_count": 13,
     "metadata": {},
     "output_type": "execute_result"
    }
   ],
   "source": [
    "X_one = data[\"energy\"].values\n",
    "X_one"
   ]
  },
  {
   "cell_type": "code",
   "execution_count": 26,
   "id": "ab3b0541",
   "metadata": {},
   "outputs": [
    {
     "name": "stdout",
     "output_type": "stream",
     "text": [
      "w found by gradient descent: [0.74018662]\n"
     ]
    }
   ],
   "source": [
    "w_in = np.zeros((1,))\n",
    "iterations = 1000\n",
    "theta = 0.5\n",
    "w_one = gradient_descent_one(X_one, Y, w_in, theta, iterations)\n",
    "print(f\"w found by gradient descent: {w_one}\")"
   ]
  },
  {
   "cell_type": "code",
   "execution_count": 27,
   "id": "e44f5cef",
   "metadata": {},
   "outputs": [
    {
     "data": {
      "text/plain": [
       "array([0.50480728, 0.63137919, 0.34270641, ..., 0.24056065, 0.24130084,\n",
       "       0.2820111 ])"
      ]
     },
     "execution_count": 27,
     "metadata": {},
     "output_type": "execute_result"
    }
   ],
   "source": [
    "y_one = predict_one(X_one, w_one)\n",
    "y_one"
   ]
  },
  {
   "cell_type": "code",
   "execution_count": 28,
   "id": "fc542fd2",
   "metadata": {},
   "outputs": [
    {
     "name": "stdout",
     "output_type": "stream",
     "text": [
      "Loss by using one feature and 0.5 learning rate: [0.03787889]\n"
     ]
    }
   ],
   "source": [
    "print(f\"Loss by using one feature and 0.5 learning rate: {loss_fun_one(X_one, Y, w_one)}\")"
   ]
  },
  {
   "cell_type": "code",
   "execution_count": 29,
   "id": "18027bf3",
   "metadata": {},
   "outputs": [
    {
     "name": "stdout",
     "output_type": "stream",
     "text": [
      "w found by gradient descent: [0.74018662]\n"
     ]
    }
   ],
   "source": [
    "w_in = np.zeros((1,))\n",
    "iterations = 1000\n",
    "theta = 0.1\n",
    "w_one = gradient_descent_one(X_one, Y, w_in, theta, iterations)\n",
    "print(f\"w found by gradient descent: {w_one}\")"
   ]
  },
  {
   "cell_type": "code",
   "execution_count": 30,
   "id": "815717a0",
   "metadata": {},
   "outputs": [
    {
     "name": "stdout",
     "output_type": "stream",
     "text": [
      "Loss by using one feature and 0.1 learning rate: [0.03787889]\n"
     ]
    }
   ],
   "source": [
    "print(f\"Loss by using one feature and 0.1 learning rate: {loss_fun_one(X_one, Y, w_one)}\")"
   ]
  },
  {
   "cell_type": "code",
   "execution_count": 31,
   "id": "b2a7b9d4",
   "metadata": {},
   "outputs": [
    {
     "name": "stdout",
     "output_type": "stream",
     "text": [
      "w found by gradient descent: [0.73296085]\n"
     ]
    }
   ],
   "source": [
    "w_in = np.zeros((1,))\n",
    "iterations = 1000\n",
    "theta = 0.01\n",
    "w_one = gradient_descent_one(X_one, Y, w_in, theta, iterations)\n",
    "print(f\"w found by gradient descent: {w_one}\")"
   ]
  },
  {
   "cell_type": "code",
   "execution_count": 32,
   "id": "deb612b7",
   "metadata": {},
   "outputs": [
    {
     "name": "stdout",
     "output_type": "stream",
     "text": [
      "Loss by using one feature and 0.01 learning rate: [0.03789095]\n"
     ]
    }
   ],
   "source": [
    "print(f\"Loss by using one feature and 0.01 learning rate: {loss_fun_one(X_one, Y, w_one)}\")"
   ]
  },
  {
   "cell_type": "code",
   "execution_count": 33,
   "id": "5446a90f",
   "metadata": {},
   "outputs": [
    {
     "name": "stdout",
     "output_type": "stream",
     "text": [
      "w found by gradient descent: [0.27383462]\n"
     ]
    }
   ],
   "source": [
    "w_in = np.zeros((1,))\n",
    "iterations = 1000\n",
    "theta = 0.001\n",
    "w_one = gradient_descent_one(X_one, Y, w_in, theta, iterations)\n",
    "print(f\"w found by gradient descent: {w_one}\")"
   ]
  },
  {
   "cell_type": "code",
   "execution_count": 34,
   "id": "8408525f",
   "metadata": {},
   "outputs": [
    {
     "name": "stdout",
     "output_type": "stream",
     "text": [
      "Loss by using one feature and 0.001 learning rate: [0.08810196]\n"
     ]
    }
   ],
   "source": [
    "print(f\"Loss by using one feature and 0.001 learning rate: {loss_fun_one(X_one, Y, w_one)}\")"
   ]
  },
  {
   "cell_type": "code",
   "execution_count": 35,
   "id": "27410591",
   "metadata": {},
   "outputs": [
    {
     "data": {
      "text/html": [
       "<div>\n",
       "<style scoped>\n",
       "    .dataframe tbody tr th:only-of-type {\n",
       "        vertical-align: middle;\n",
       "    }\n",
       "\n",
       "    .dataframe tbody tr th {\n",
       "        vertical-align: top;\n",
       "    }\n",
       "\n",
       "    .dataframe thead th {\n",
       "        text-align: right;\n",
       "    }\n",
       "</style>\n",
       "<table border=\"1\" class=\"dataframe\">\n",
       "  <thead>\n",
       "    <tr style=\"text-align: right;\">\n",
       "      <th></th>\n",
       "      <th>song_duration_ms</th>\n",
       "      <th>acousticness</th>\n",
       "      <th>danceability</th>\n",
       "      <th>energy</th>\n",
       "      <th>key</th>\n",
       "      <th>liveness</th>\n",
       "      <th>audio_mode</th>\n",
       "      <th>speechiness</th>\n",
       "      <th>tempo</th>\n",
       "      <th>time_signature</th>\n",
       "      <th>audio_valence</th>\n",
       "    </tr>\n",
       "  </thead>\n",
       "  <tbody>\n",
       "    <tr>\n",
       "      <th>0</th>\n",
       "      <td>262333</td>\n",
       "      <td>0.005520</td>\n",
       "      <td>0.496</td>\n",
       "      <td>0.682</td>\n",
       "      <td>8</td>\n",
       "      <td>0.0589</td>\n",
       "      <td>1</td>\n",
       "      <td>0.0294</td>\n",
       "      <td>167.060</td>\n",
       "      <td>4</td>\n",
       "      <td>0.474</td>\n",
       "    </tr>\n",
       "    <tr>\n",
       "      <th>1</th>\n",
       "      <td>216933</td>\n",
       "      <td>0.010300</td>\n",
       "      <td>0.542</td>\n",
       "      <td>0.853</td>\n",
       "      <td>3</td>\n",
       "      <td>0.1080</td>\n",
       "      <td>0</td>\n",
       "      <td>0.0498</td>\n",
       "      <td>105.256</td>\n",
       "      <td>4</td>\n",
       "      <td>0.370</td>\n",
       "    </tr>\n",
       "    <tr>\n",
       "      <th>2</th>\n",
       "      <td>231733</td>\n",
       "      <td>0.008170</td>\n",
       "      <td>0.737</td>\n",
       "      <td>0.463</td>\n",
       "      <td>0</td>\n",
       "      <td>0.2550</td>\n",
       "      <td>1</td>\n",
       "      <td>0.0792</td>\n",
       "      <td>123.881</td>\n",
       "      <td>4</td>\n",
       "      <td>0.324</td>\n",
       "    </tr>\n",
       "    <tr>\n",
       "      <th>3</th>\n",
       "      <td>216933</td>\n",
       "      <td>0.026400</td>\n",
       "      <td>0.451</td>\n",
       "      <td>0.970</td>\n",
       "      <td>0</td>\n",
       "      <td>0.1020</td>\n",
       "      <td>1</td>\n",
       "      <td>0.1070</td>\n",
       "      <td>122.444</td>\n",
       "      <td>4</td>\n",
       "      <td>0.198</td>\n",
       "    </tr>\n",
       "    <tr>\n",
       "      <th>4</th>\n",
       "      <td>223826</td>\n",
       "      <td>0.000954</td>\n",
       "      <td>0.447</td>\n",
       "      <td>0.766</td>\n",
       "      <td>10</td>\n",
       "      <td>0.1130</td>\n",
       "      <td>1</td>\n",
       "      <td>0.0313</td>\n",
       "      <td>172.011</td>\n",
       "      <td>4</td>\n",
       "      <td>0.574</td>\n",
       "    </tr>\n",
       "    <tr>\n",
       "      <th>...</th>\n",
       "      <td>...</td>\n",
       "      <td>...</td>\n",
       "      <td>...</td>\n",
       "      <td>...</td>\n",
       "      <td>...</td>\n",
       "      <td>...</td>\n",
       "      <td>...</td>\n",
       "      <td>...</td>\n",
       "      <td>...</td>\n",
       "      <td>...</td>\n",
       "      <td>...</td>\n",
       "    </tr>\n",
       "    <tr>\n",
       "      <th>18830</th>\n",
       "      <td>159645</td>\n",
       "      <td>0.893000</td>\n",
       "      <td>0.500</td>\n",
       "      <td>0.151</td>\n",
       "      <td>11</td>\n",
       "      <td>0.1110</td>\n",
       "      <td>1</td>\n",
       "      <td>0.0348</td>\n",
       "      <td>113.969</td>\n",
       "      <td>4</td>\n",
       "      <td>0.300</td>\n",
       "    </tr>\n",
       "    <tr>\n",
       "      <th>18831</th>\n",
       "      <td>205666</td>\n",
       "      <td>0.765000</td>\n",
       "      <td>0.495</td>\n",
       "      <td>0.161</td>\n",
       "      <td>11</td>\n",
       "      <td>0.1050</td>\n",
       "      <td>0</td>\n",
       "      <td>0.0301</td>\n",
       "      <td>94.286</td>\n",
       "      <td>4</td>\n",
       "      <td>0.265</td>\n",
       "    </tr>\n",
       "    <tr>\n",
       "      <th>18832</th>\n",
       "      <td>182211</td>\n",
       "      <td>0.847000</td>\n",
       "      <td>0.719</td>\n",
       "      <td>0.325</td>\n",
       "      <td>0</td>\n",
       "      <td>0.1250</td>\n",
       "      <td>1</td>\n",
       "      <td>0.0355</td>\n",
       "      <td>130.534</td>\n",
       "      <td>4</td>\n",
       "      <td>0.286</td>\n",
       "    </tr>\n",
       "    <tr>\n",
       "      <th>18833</th>\n",
       "      <td>352280</td>\n",
       "      <td>0.945000</td>\n",
       "      <td>0.488</td>\n",
       "      <td>0.326</td>\n",
       "      <td>3</td>\n",
       "      <td>0.1190</td>\n",
       "      <td>1</td>\n",
       "      <td>0.0328</td>\n",
       "      <td>106.063</td>\n",
       "      <td>4</td>\n",
       "      <td>0.323</td>\n",
       "    </tr>\n",
       "    <tr>\n",
       "      <th>18834</th>\n",
       "      <td>193533</td>\n",
       "      <td>0.911000</td>\n",
       "      <td>0.640</td>\n",
       "      <td>0.381</td>\n",
       "      <td>4</td>\n",
       "      <td>0.1040</td>\n",
       "      <td>1</td>\n",
       "      <td>0.0302</td>\n",
       "      <td>91.490</td>\n",
       "      <td>4</td>\n",
       "      <td>0.581</td>\n",
       "    </tr>\n",
       "  </tbody>\n",
       "</table>\n",
       "<p>18835 rows × 11 columns</p>\n",
       "</div>"
      ],
      "text/plain": [
       "       song_duration_ms  acousticness  danceability  energy  key  liveness  \\\n",
       "0                262333      0.005520         0.496   0.682    8    0.0589   \n",
       "1                216933      0.010300         0.542   0.853    3    0.1080   \n",
       "2                231733      0.008170         0.737   0.463    0    0.2550   \n",
       "3                216933      0.026400         0.451   0.970    0    0.1020   \n",
       "4                223826      0.000954         0.447   0.766   10    0.1130   \n",
       "...                 ...           ...           ...     ...  ...       ...   \n",
       "18830            159645      0.893000         0.500   0.151   11    0.1110   \n",
       "18831            205666      0.765000         0.495   0.161   11    0.1050   \n",
       "18832            182211      0.847000         0.719   0.325    0    0.1250   \n",
       "18833            352280      0.945000         0.488   0.326    3    0.1190   \n",
       "18834            193533      0.911000         0.640   0.381    4    0.1040   \n",
       "\n",
       "       audio_mode  speechiness    tempo  time_signature  audio_valence  \n",
       "0               1       0.0294  167.060               4          0.474  \n",
       "1               0       0.0498  105.256               4          0.370  \n",
       "2               1       0.0792  123.881               4          0.324  \n",
       "3               1       0.1070  122.444               4          0.198  \n",
       "4               1       0.0313  172.011               4          0.574  \n",
       "...           ...          ...      ...             ...            ...  \n",
       "18830           1       0.0348  113.969               4          0.300  \n",
       "18831           0       0.0301   94.286               4          0.265  \n",
       "18832           1       0.0355  130.534               4          0.286  \n",
       "18833           1       0.0328  106.063               4          0.323  \n",
       "18834           1       0.0302   91.490               4          0.581  \n",
       "\n",
       "[18835 rows x 11 columns]"
      ]
     },
     "execution_count": 35,
     "metadata": {},
     "output_type": "execute_result"
    }
   ],
   "source": [
    "features"
   ]
  },
  {
   "cell_type": "code",
   "execution_count": 37,
   "id": "29ff1dd4",
   "metadata": {},
   "outputs": [
    {
     "data": {
      "text/plain": [
       "array([[0.00552, 0.496  , 0.682  ],\n",
       "       [0.0103 , 0.542  , 0.853  ],\n",
       "       [0.00817, 0.737  , 0.463  ],\n",
       "       ...,\n",
       "       [0.847  , 0.719  , 0.325  ],\n",
       "       [0.945  , 0.488  , 0.326  ],\n",
       "       [0.911  , 0.64   , 0.381  ]])"
      ]
     },
     "execution_count": 37,
     "metadata": {},
     "output_type": "execute_result"
    }
   ],
   "source": [
    "X_three = features.drop(\"song_duration_ms\", axis = 1)\n",
    "X_three = X_three.drop(\"key\", axis = 1)\n",
    "X_three = X_three.drop(\"liveness\", axis = 1)\n",
    "X_three = X_three.drop(\"audio_mode\", axis = 1)\n",
    "X_three = X_three.drop(\"speechiness\", axis = 1)\n",
    "X_three = X_three.drop(\"tempo\", axis = 1)\n",
    "X_three = X_three.drop(\"time_signature\", axis = 1)\n",
    "X_three = X_three.drop(\"audio_valence\", axis = 1)\n",
    "X_three = X_three.values\n",
    "X_three"
   ]
  },
  {
   "cell_type": "code",
   "execution_count": 39,
   "id": "ab6dd5cf",
   "metadata": {},
   "outputs": [
    {
     "name": "stdout",
     "output_type": "stream",
     "text": [
      "w found by gradient descent: [0.16984478 0.45824615 0.2871338 ]\n"
     ]
    }
   ],
   "source": [
    "w_in = np.zeros((3,))\n",
    "iterations = 1000\n",
    "theta = 0.5\n",
    "w_three = gradient_descent(X_three, Y, w_in, theta, iterations)\n",
    "print(f\"w found by gradient descent: {w_three}\")"
   ]
  },
  {
   "cell_type": "code",
   "execution_count": 40,
   "id": "6312f1f1",
   "metadata": {},
   "outputs": [
    {
     "name": "stdout",
     "output_type": "stream",
     "text": [
      "Loss by using three features and 0.5 learning rate: 0.02631496048567441\n"
     ]
    }
   ],
   "source": [
    "print(f\"Loss by using three features and 0.5 learning rate: {loss_function(X_three, Y, w_three)}\")"
   ]
  },
  {
   "cell_type": "code",
   "execution_count": 41,
   "id": "6442d889",
   "metadata": {},
   "outputs": [
    {
     "name": "stdout",
     "output_type": "stream",
     "text": [
      "w found by gradient descent: [0.17265549 0.45156345 0.29259745]\n"
     ]
    }
   ],
   "source": [
    "w_in = np.zeros((3,))\n",
    "iterations = 1000\n",
    "theta = 0.1\n",
    "w_three = gradient_descent(X_three, Y, w_in, theta, iterations)\n",
    "print(f\"w found by gradient descent: {w_three}\")"
   ]
  },
  {
   "cell_type": "code",
   "execution_count": 42,
   "id": "689e8345",
   "metadata": {},
   "outputs": [
    {
     "name": "stdout",
     "output_type": "stream",
     "text": [
      "Loss by using three features and 0.1 learning rate: 0.02631599430347127\n"
     ]
    }
   ],
   "source": [
    "print(f\"Loss by using three features and 0.1 learning rate: {loss_function(X_three, Y, w_three)}\")"
   ]
  },
  {
   "cell_type": "code",
   "execution_count": 43,
   "id": "45cdcc7f",
   "metadata": {},
   "outputs": [
    {
     "name": "stdout",
     "output_type": "stream",
     "text": [
      "w found by gradient descent: [0.17455716 0.39259226 0.34910914]\n"
     ]
    }
   ],
   "source": [
    "w_in = np.zeros((3,))\n",
    "iterations = 1000\n",
    "theta = 0.01\n",
    "w_three = gradient_descent(X_three, Y, w_in, theta, iterations)\n",
    "print(f\"w found by gradient descent: {w_three}\")"
   ]
  },
  {
   "cell_type": "code",
   "execution_count": 44,
   "id": "b36aecca",
   "metadata": {},
   "outputs": [
    {
     "name": "stdout",
     "output_type": "stream",
     "text": [
      "Loss by using three features and 0.01 learning rate: 0.026441459118948064\n"
     ]
    }
   ],
   "source": [
    "print(f\"Loss by using three features and 0.01 learning rate: {loss_function(X_three, Y, w_three)}\")"
   ]
  },
  {
   "cell_type": "code",
   "execution_count": 45,
   "id": "0184f248",
   "metadata": {},
   "outputs": [
    {
     "name": "stdout",
     "output_type": "stream",
     "text": [
      "w found by gradient descent: [0.08911828 0.22394186 0.22345244]\n"
     ]
    }
   ],
   "source": [
    "w_in = np.zeros((3,))\n",
    "iterations = 1000\n",
    "theta = 0.001\n",
    "w_three = gradient_descent(X_three, Y, w_in, theta, iterations)\n",
    "print(f\"w found by gradient descent: {w_three}\")"
   ]
  },
  {
   "cell_type": "code",
   "execution_count": 46,
   "id": "5ab29ffd",
   "metadata": {},
   "outputs": [
    {
     "name": "stdout",
     "output_type": "stream",
     "text": [
      "Loss by using three features and 0.001 learning rate: 0.04913086695031203\n"
     ]
    }
   ],
   "source": [
    "print(f\"Loss by using three features and 0.001 learning rate: {loss_function(X_three, Y, w_three)}\")"
   ]
  },
  {
   "cell_type": "code",
   "execution_count": 47,
   "id": "2dd7b215",
   "metadata": {},
   "outputs": [
    {
     "data": {
      "text/plain": [
       "array([[0.00552, 0.496  , 0.682  , 0.0589 , 0.0294 ],\n",
       "       [0.0103 , 0.542  , 0.853  , 0.108  , 0.0498 ],\n",
       "       [0.00817, 0.737  , 0.463  , 0.255  , 0.0792 ],\n",
       "       ...,\n",
       "       [0.847  , 0.719  , 0.325  , 0.125  , 0.0355 ],\n",
       "       [0.945  , 0.488  , 0.326  , 0.119  , 0.0328 ],\n",
       "       [0.911  , 0.64   , 0.381  , 0.104  , 0.0302 ]])"
      ]
     },
     "execution_count": 47,
     "metadata": {},
     "output_type": "execute_result"
    }
   ],
   "source": [
    "X_five = features.drop(\"song_duration_ms\", axis = 1)\n",
    "X_five = X_five.drop(\"key\", axis = 1)\n",
    "X_five = X_five.drop(\"audio_mode\", axis = 1)\n",
    "X_five = X_five.drop(\"tempo\", axis = 1)\n",
    "X_five = X_five.drop(\"time_signature\", axis = 1)\n",
    "X_five = X_five.drop(\"audio_valence\", axis = 1)\n",
    "X_five = X_five.values\n",
    "X_five"
   ]
  },
  {
   "cell_type": "code",
   "execution_count": 48,
   "id": "e65fa7a0",
   "metadata": {},
   "outputs": [
    {
     "name": "stdout",
     "output_type": "stream",
     "text": [
      "w found by gradient descent: [1.66976138e-01 4.57827980e-01 2.79135170e-01 3.49081282e-02\n",
      " 3.00819197e-05]\n"
     ]
    }
   ],
   "source": [
    "w_in = np.zeros((5,))\n",
    "iterations = 1000\n",
    "theta = 0.5\n",
    "w_five = gradient_descent(X_five, Y, w_in, theta, iterations)\n",
    "print(f\"w found by gradient descent: {w_five}\")"
   ]
  },
  {
   "cell_type": "code",
   "execution_count": 49,
   "id": "ad9dd4ce",
   "metadata": {},
   "outputs": [
    {
     "name": "stdout",
     "output_type": "stream",
     "text": [
      "Loss by using five features and 0.5 learning rate: 0.02630249248167228\n"
     ]
    }
   ],
   "source": [
    "print(f\"Loss by using five features and 0.5 learning rate: {loss_function(X_five, Y, w_five)}\")"
   ]
  },
  {
   "cell_type": "code",
   "execution_count": 50,
   "id": "6b3862dd",
   "metadata": {},
   "outputs": [
    {
     "name": "stdout",
     "output_type": "stream",
     "text": [
      "w found by gradient descent: [0.16975665 0.44773697 0.28335249 0.0373317  0.02450493]\n"
     ]
    }
   ],
   "source": [
    "w_in = np.zeros((5,))\n",
    "iterations = 1000\n",
    "theta = 0.1\n",
    "w_five = gradient_descent(X_five, Y, w_in, theta, iterations)\n",
    "print(f\"w found by gradient descent: {w_five}\")"
   ]
  },
  {
   "cell_type": "code",
   "execution_count": 51,
   "id": "9084c342",
   "metadata": {},
   "outputs": [
    {
     "name": "stdout",
     "output_type": "stream",
     "text": [
      "Loss by using five features and 0.1 learning rate: 0.026306860280490504\n"
     ]
    }
   ],
   "source": [
    "print(f\"Loss by using five features and 0.1 learning rate: {loss_function(X_five, Y, w_five)}\")"
   ]
  },
  {
   "cell_type": "code",
   "execution_count": 52,
   "id": "798b82ff",
   "metadata": {},
   "outputs": [
    {
     "name": "stdout",
     "output_type": "stream",
     "text": [
      "w found by gradient descent: [0.16938473 0.37912877 0.33235994 0.08423832 0.0538264 ]\n"
     ]
    }
   ],
   "source": [
    "w_in = np.zeros((5,))\n",
    "iterations = 1000\n",
    "theta = 0.01\n",
    "w_five = gradient_descent(X_five, Y, w_in, theta, iterations)\n",
    "print(f\"w found by gradient descent: {w_five}\")"
   ]
  },
  {
   "cell_type": "code",
   "execution_count": 53,
   "id": "6b55c3c2",
   "metadata": {},
   "outputs": [
    {
     "name": "stdout",
     "output_type": "stream",
     "text": [
      "Loss by using five features and 0.01 learning rate: 0.026488731773825252\n"
     ]
    }
   ],
   "source": [
    "print(f\"Loss by using five features and 0.01 learning rate: {loss_function(X_five, Y, w_five)}\")"
   ]
  },
  {
   "cell_type": "code",
   "execution_count": 54,
   "id": "3aeaa5a3",
   "metadata": {},
   "outputs": [
    {
     "name": "stdout",
     "output_type": "stream",
     "text": [
      "w found by gradient descent: [0.08766357 0.22005667 0.21930536 0.06002408 0.03510742]\n"
     ]
    }
   ],
   "source": [
    "w_in = np.zeros((5,))\n",
    "iterations = 1000\n",
    "theta = 0.001\n",
    "w_five = gradient_descent(X_five, Y, w_in, theta, iterations)\n",
    "print(f\"w found by gradient descent: {w_five}\")"
   ]
  },
  {
   "cell_type": "code",
   "execution_count": 55,
   "id": "cff23284",
   "metadata": {},
   "outputs": [
    {
     "name": "stdout",
     "output_type": "stream",
     "text": [
      "Loss by using five features and 0.001 learning rate: 0.04733398669615134\n"
     ]
    }
   ],
   "source": [
    "print(f\"Loss by using five features and 0.001 learning rate: {loss_function(X_five, Y, w_five)}\")"
   ]
  },
  {
   "cell_type": "code",
   "execution_count": 61,
   "id": "06a86c06",
   "metadata": {},
   "outputs": [
    {
     "data": {
      "text/plain": [
       "array([[0.00552, 0.496  , 0.682  , ..., 1.     , 0.0294 , 0.474  ],\n",
       "       [0.0103 , 0.542  , 0.853  , ..., 0.     , 0.0498 , 0.37   ],\n",
       "       [0.00817, 0.737  , 0.463  , ..., 1.     , 0.0792 , 0.324  ],\n",
       "       ...,\n",
       "       [0.847  , 0.719  , 0.325  , ..., 1.     , 0.0355 , 0.286  ],\n",
       "       [0.945  , 0.488  , 0.326  , ..., 1.     , 0.0328 , 0.323  ],\n",
       "       [0.911  , 0.64   , 0.381  , ..., 1.     , 0.0302 , 0.581  ]])"
      ]
     },
     "execution_count": 61,
     "metadata": {},
     "output_type": "execute_result"
    }
   ],
   "source": [
    "X_seven = features.drop(\"song_duration_ms\", axis = 1)\n",
    "X_seven = X_seven.drop(\"key\", axis = 1)\n",
    "X_seven = X_seven.drop(\"tempo\", axis = 1)\n",
    "X_seven = X_seven.drop(\"time_signature\", axis = 1)\n",
    "X_seven = X_seven.values\n",
    "X_seven"
   ]
  },
  {
   "cell_type": "code",
   "execution_count": 62,
   "id": "30982363",
   "metadata": {},
   "outputs": [
    {
     "name": "stdout",
     "output_type": "stream",
     "text": [
      "w found by gradient descent: [ 0.16502964  0.50495143  0.31296047  0.0230785   0.04015932 -0.00616254\n",
      " -0.13694376]\n"
     ]
    }
   ],
   "source": [
    "w_in = np.zeros((7,))\n",
    "iterations = 1000\n",
    "theta = 0.5\n",
    "w_seven = gradient_descent(X_seven, Y, w_in, theta, iterations)\n",
    "print(f\"w found by gradient descent: {w_seven}\")"
   ]
  },
  {
   "cell_type": "code",
   "execution_count": 63,
   "id": "ecb2f5a9",
   "metadata": {},
   "outputs": [
    {
     "name": "stdout",
     "output_type": "stream",
     "text": [
      "Loss by using seven features and 0.5 learning rate: 0.02567210474184638\n"
     ]
    }
   ],
   "source": [
    "print(f\"Loss by using seven features and 0.5 learning rate: {loss_function(X_seven, Y, w_seven)}\")"
   ]
  },
  {
   "cell_type": "code",
   "execution_count": 64,
   "id": "525fef28",
   "metadata": {},
   "outputs": [
    {
     "name": "stdout",
     "output_type": "stream",
     "text": [
      "w found by gradient descent: [ 0.16554554  0.4844385   0.30915323  0.03344187  0.04140741  0.03594172\n",
      " -0.1217388 ]\n"
     ]
    }
   ],
   "source": [
    "w_in = np.zeros((7,))\n",
    "iterations = 1000\n",
    "theta = 0.1\n",
    "w_seven = gradient_descent(X_seven, Y, w_in, theta, iterations)\n",
    "print(f\"w found by gradient descent: {w_seven}\")"
   ]
  },
  {
   "cell_type": "code",
   "execution_count": 65,
   "id": "408060dc",
   "metadata": {},
   "outputs": [
    {
     "name": "stdout",
     "output_type": "stream",
     "text": [
      "Loss by using seven features and 0.1 learning rate: 0.0256889381693104\n"
     ]
    }
   ],
   "source": [
    "print(f\"Loss by using seven features and 0.1 learning rate: {loss_function(X_seven, Y, w_seven)}\")"
   ]
  },
  {
   "cell_type": "code",
   "execution_count": 66,
   "id": "70fe1add",
   "metadata": {},
   "outputs": [
    {
     "name": "stdout",
     "output_type": "stream",
     "text": [
      "w found by gradient descent: [0.12562612 0.30304988 0.25345424 0.06516933 0.07930233 0.05020179\n",
      " 0.10927142]\n"
     ]
    }
   ],
   "source": [
    "w_in = np.zeros((7,))\n",
    "iterations = 1000\n",
    "theta = 0.01\n",
    "w_seven = gradient_descent(X_seven, Y, w_in, theta, iterations)\n",
    "print(f\"w found by gradient descent: {w_seven}\")"
   ]
  },
  {
   "cell_type": "code",
   "execution_count": 67,
   "id": "e544e6e8",
   "metadata": {},
   "outputs": [
    {
     "name": "stdout",
     "output_type": "stream",
     "text": [
      "Loss by using seven features and 0.01 learning rate: 0.02747714621141122\n"
     ]
    }
   ],
   "source": [
    "print(f\"Loss by using seven features and 0.01 learning rate: {loss_function(X_seven, Y, w_seven)}\")"
   ]
  },
  {
   "cell_type": "code",
   "execution_count": 68,
   "id": "351c4a3d",
   "metadata": {},
   "outputs": [
    {
     "name": "stdout",
     "output_type": "stream",
     "text": [
      "w found by gradient descent: [0.06750876 0.17202233 0.17000521 0.04647642 0.14780201 0.02797491\n",
      " 0.13208282]\n"
     ]
    }
   ],
   "source": [
    "w_in = np.zeros((7,))\n",
    "iterations = 1000\n",
    "theta = 0.001\n",
    "w_seven = gradient_descent(X_seven, Y, w_in, theta, iterations)\n",
    "print(f\"w found by gradient descent: {w_seven}\")"
   ]
  },
  {
   "cell_type": "code",
   "execution_count": 69,
   "id": "f03fe405",
   "metadata": {},
   "outputs": [
    {
     "name": "stdout",
     "output_type": "stream",
     "text": [
      "Loss by using seven features and 0.001 learning rate: 0.03547979908221579\n"
     ]
    }
   ],
   "source": [
    "print(f\"Loss by using seven features and 0.001 learning rate: {loss_function(X_seven, Y, w_seven)}\")"
   ]
  },
  {
   "cell_type": "code",
   "execution_count": null,
   "id": "9568e5fd",
   "metadata": {},
   "outputs": [],
   "source": []
  }
 ],
 "metadata": {
  "kernelspec": {
   "display_name": "Python 3 (ipykernel)",
   "language": "python",
   "name": "python3"
  },
  "language_info": {
   "codemirror_mode": {
    "name": "ipython",
    "version": 3
   },
   "file_extension": ".py",
   "mimetype": "text/x-python",
   "name": "python",
   "nbconvert_exporter": "python",
   "pygments_lexer": "ipython3",
   "version": "3.9.12"
  }
 },
 "nbformat": 4,
 "nbformat_minor": 5
}
